{
 "metadata": {
  "name": "",
  "signature": "sha256:36f47b74279e68eef7ef3436fdc1b0d81c7285faee45a2588ace57d623efdb51"
 },
 "nbformat": 3,
 "nbformat_minor": 0,
 "worksheets": [
  {
   "cells": [
    {
     "cell_type": "heading",
     "level": 1,
     "metadata": {
      "slideshow": {
       "slide_type": "slide"
      }
     },
     "source": [
      "Production Models with Constraints"
     ]
    },
    {
     "cell_type": "markdown",
     "metadata": {},
     "source": [
      "This [IPython notebook](http://ipython.org/notebook.html) illustrates the formulation of an elementary model for multi-product plant using GLPK/MathProg.\n",
      "\n",
      "J.C. Kantor (Kantor.1@nd.edu)\n",
      "\n",
      "The latest version of this IPython notebook is available at [http://github.com/jckantor/CBE20255](http://github.com/jckantor/CBE20255)  for noncommercial use under terms of the [Creative Commons Attribution Noncommericial ShareAlike License](http://creativecommons.org/licenses/by-nc-sa/4.0/)."
     ]
    },
    {
     "cell_type": "code",
     "collapsed": false,
     "input": [
      "%matplotlib inline\n",
      "from pylab import *"
     ],
     "language": "python",
     "metadata": {},
     "outputs": [],
     "prompt_number": 1
    },
    {
     "cell_type": "heading",
     "level": 2,
     "metadata": {
      "slideshow": {
       "slide_type": "slide"
      }
     },
     "source": [
      "Production Plan: Product X"
     ]
    },
    {
     "cell_type": "markdown",
     "metadata": {},
     "source": [
      "Suppose you are thinking about starting up a business to produce Product X. You have determined there is a market for X of up to 40 units per week at a price of \\$270 each. The production of each unit requires \\$100 of raw materials, 1 hour of type A labor, and 2 hours of type B labor. You have an unlimited amount of raw material available to you, but only 80 hours per week of labor A at a cost of \\$50/hour, and 100 hours per week of labor B at a cost of \\$40 per hour. Ignoring all other expenses, what is the maximum weekly profit?\n",
      "\n",
      "To get started on this problem, we sketch a flow diagram illustrating the flow of raw materials and labor through the production plant."
     ]
    },
    {
     "cell_type": "markdown",
     "metadata": {},
     "source": [
      "<img src=\"files/img/LP_ProductX.png\" style=\"width:600px\"/>"
     ]
    },
    {
     "cell_type": "markdown",
     "metadata": {},
     "source": [
      "The essential decision we need to make is how many units or Product X to produce each week. That's our *decision variable* which we denote as $x$. The weekly revenues are then\n",
      "\n",
      "$$ \\mbox{Revenue} = \\$270 x $$\n",
      "\n",
      "The costs include the value of the raw materials and each form of labor. If we produce x units a week, then the total cost is\n",
      "\n",
      "$$ \\mbox{Cost} = \\underbrace{\\$100 x}_{\\mbox{Raw Material}} \n",
      "    + \\underbrace{\\$50 x}_{\\mbox{Labor A}} + \\underbrace{2\\times\\$40 x}_{\\mbox{Labor B}} = \\$230 x$$\n",
      "    \n",
      "We see immediately that the gross profit is just\n",
      "\n",
      "$$\\begin{eqnarray*}\\mbox{Profit} & = & \\mbox{Revenue} - \\mbox{Cost} \\\\\n",
      "& = & \\$270x - \\$230x \\\\\n",
      "& = & \\$40 x\n",
      "\\end{eqnarray*}$$\n",
      "\n",
      "which means there is a profit earned on each unit of X produced, so let's produce as many as possible. \n",
      "\n",
      "There are three constraints that limit how many units can be produced. There is market demand for no more than 40 units per week. Producing $x = 40$ units per week will require 40 hours per week of Labor A, and 80 hours per week of Labor B. Checking those constraints we see that we have enough labor of each type, so the maximum profit will be\n",
      "\n",
      "$$\\max \\mbox{Profit} = $40 \\mbox{ per unit} \\times 40 \\mbox{ units per week} = \\$1600 \\mbox{ per week}$$\n",
      "\n",
      "What we conclude is that market demand is the 'most constraining constraint.' Once we've made that deduction, the rest is a straightforward problem that can be solved by inspection.  "
     ]
    },
    {
     "cell_type": "heading",
     "level": 3,
     "metadata": {
      "slideshow": {
       "slide_type": "fragment"
      }
     },
     "source": [
      "MathProg Model"
     ]
    },
    {
     "cell_type": "markdown",
     "metadata": {},
     "source": [
      "While this problem can be solved by inspection, next we show a `MathProg` model that generates a solution to the problem. The first line is an IPython 'cell magic' that allows us to use the `glpsol` command to read and run a `MathProg` model. The remainder of the cell is the actual model."
     ]
    },
    {
     "cell_type": "code",
     "collapsed": false,
     "input": [
      "%%script glpsol -m /dev/stdin -o /dev/stdout -y display.txt --out output\n",
      "\n",
      "# Declare decision variables\n",
      "var x >= 0;\n",
      "\n",
      "# Declare the objective\n",
      "maximize Profit: 270*x - 2*40*x - 50*x - 100*x;\n",
      "    \n",
      "# Declare problem constraints\n",
      "subject to Demand: x <= 40;\n",
      "subject to LaborA: x <= 80;\n",
      "subject to LaborB: 2*x <= 100;\n",
      "\n",
      "# Compute a solution\n",
      "solve;\n",
      "\n",
      "# Display solution values\n",
      "printf \"Profit = $%7.2f per week\\n\", Profit;\n",
      "printf \"x = %7.2f units per week\\n\", x;\n",
      "\n",
      "end;\n"
     ],
     "language": "python",
     "metadata": {},
     "outputs": [],
     "prompt_number": 2
    },
    {
     "cell_type": "markdown",
     "metadata": {},
     "source": [
      "This model uses the `printf` statement to display the value of the solution to the model output. The cell magic captures that portion of the model output to a file `display.txt`. That file is prrinted to this notebook with the following command that opens, reads, and prints the contents of the file."
     ]
    },
    {
     "cell_type": "code",
     "collapsed": false,
     "input": [
      "print(open('display.txt').read())"
     ],
     "language": "python",
     "metadata": {},
     "outputs": [
      {
       "output_type": "stream",
       "stream": "stdout",
       "text": [
        "Profit = $1600.00 per week\n",
        "x =   40.00 units per week\n",
        "\n"
       ]
      }
     ],
     "prompt_number": 3
    },
    {
     "cell_type": "markdown",
     "metadata": {},
     "source": [
      "The complete output is displayed as follows."
     ]
    },
    {
     "cell_type": "code",
     "collapsed": false,
     "input": [
      "print output"
     ],
     "language": "python",
     "metadata": {},
     "outputs": [
      {
       "output_type": "stream",
       "stream": "stdout",
       "text": [
        "GLPSOL: GLPK LP/MIP Solver, v4.52\n",
        "Parameter(s) specified in the command line:\n",
        " -m /dev/stdin -o /dev/stdout -y display.txt\n",
        "Reading model section from /dev/stdin...\n",
        "20 lines were read\n",
        "Generating Profit...\n",
        "Generating Demand...\n",
        "Generating LaborA...\n",
        "Generating LaborB...\n",
        "Model has been successfully generated\n",
        "GLPK Simplex Optimizer, v4.52\n",
        "4 rows, 1 column, 4 non-zeros\n",
        "Preprocessing...\n",
        "~     0: obj =   1.600000000e+03  infeas =  0.000e+00\n",
        "OPTIMAL SOLUTION FOUND BY LP PREPROCESSOR\n",
        "Time used:   0.0 secs\n",
        "Memory used: 0.1 Mb (94198 bytes)\n",
        "Model has been successfully processed\n",
        "Writing basic solution to `/dev/stdout'...\n",
        "Problem:    stdin\n",
        "Rows:       4\n",
        "Columns:    1\n",
        "Non-zeros:  4\n",
        "Status:     OPTIMAL\n",
        "Objective:  Profit = 1600 (MAXimum)\n",
        "\n",
        "   No.   Row name   St   Activity     Lower bound   Upper bound    Marginal\n",
        "------ ------------ -- ------------- ------------- ------------- -------------\n",
        "     1 Profit       B           1600                             \n",
        "     2 Demand       NU            40                          40            40 \n",
        "     3 LaborA       B             40                          80 \n",
        "     4 LaborB       B             80                         100 \n",
        "\n",
        "   No. Column name  St   Activity     Lower bound   Upper bound    Marginal\n",
        "------ ------------ -- ------------- ------------- ------------- -------------\n",
        "     1 x            B             40             0               \n",
        "\n",
        "Karush-Kuhn-Tucker optimality conditions:\n",
        "\n",
        "KKT.PE: max.abs.err = 0.00e+00 on row 0\n",
        "        max.rel.err = 0.00e+00 on row 0\n",
        "        High quality\n",
        "\n",
        "KKT.PB: max.abs.err = 0.00e+00 on row 0\n",
        "        max.rel.err = 0.00e+00 on row 0\n",
        "        High quality\n",
        "\n",
        "KKT.DE: max.abs.err = 0.00e+00 on column 0\n",
        "        max.rel.err = 0.00e+00 on column 0\n",
        "        High quality\n",
        "\n",
        "KKT.DB: max.abs.err = 0.00e+00 on row 0\n",
        "        max.rel.err = 0.00e+00 on row 0\n",
        "        High quality\n",
        "\n",
        "End of output\n",
        "\n"
       ]
      }
     ],
     "prompt_number": 4
    },
    {
     "cell_type": "heading",
     "level": 4,
     "metadata": {},
     "source": [
      "Exercises"
     ]
    },
    {
     "cell_type": "markdown",
     "metadata": {},
     "source": [
      "Open a web browswer to the `MathProg` page http://www3.nd.edu/~jeff/mathprog/mathprog.html. Cut and paste the above model into the edit window of the `MathProg` web page, and clear on the `Solve` button to execute the model. Navigate thought the various tabs to see what's going on. Then change some of the model parameters to try some 'what-if' questions:\n",
      "\n",
      "1. Suppose the demand could be increased to 50 units per month. What would be the increased profits?  What if the demand increased to 60 units per month?  How much would you be willing to pay for your marketing department for the increased demand?\n",
      "\n",
      "2. Increase the cost of LaborB. At what point is it no longer financially viable to run the plant?\n"
     ]
    },
    {
     "cell_type": "heading",
     "level": 2,
     "metadata": {
      "slideshow": {
       "slide_type": "slide"
      }
     },
     "source": [
      "Production Plan: Product Y"
     ]
    },
    {
     "cell_type": "markdown",
     "metadata": {},
     "source": [
      "Your marketing department has developed plans for a new product called Y. The product sells at a price of \\$210/each, and they expect that you can sell all that you can make. It's also cheaper to make, requiring only \\$90 in raw materials, 1 hour of Labor type A at \\$50 per hour, and 1 hour of Labor B at \\$40 per hour. What is the potential weekly profit?"
     ]
    },
    {
     "cell_type": "markdown",
     "metadata": {},
     "source": [
      "<img src=\"files/img/LP_ProductY.png\" style=\"width:600px\"/>"
     ]
    },
    {
     "cell_type": "code",
     "collapsed": false,
     "input": [
      "%%script glpsol -m /dev/stdin -o /dev/stdout -y display.txt --out output\n",
      "\n",
      "# Declare decision variables\n",
      "var y >= 0;\n",
      "\n",
      "# Declare the objective\n",
      "maximize Profit: 210*y - 40*y - 50*y - 90*y;\n",
      "    \n",
      "# Declare problem constraints\n",
      "subject to LaborA: y <= 80;\n",
      "subject to LaborB: y <= 100;\n",
      "\n",
      "# Compute a solution\n",
      "solve;\n",
      "\n",
      "# Display solution values\n",
      "printf \"Profit = $%7.2f per week\\n\", Profit;\n",
      "printf \"y = %7.2f units per week\\n\", y;\n",
      "\n",
      "end;\n"
     ],
     "language": "python",
     "metadata": {
      "slideshow": {
       "slide_type": "fragment"
      }
     },
     "outputs": [],
     "prompt_number": 5
    },
    {
     "cell_type": "markdown",
     "metadata": {},
     "source": [
      "Looking at the model output"
     ]
    },
    {
     "cell_type": "code",
     "collapsed": false,
     "input": [
      "print(open('display.txt').read())"
     ],
     "language": "python",
     "metadata": {},
     "outputs": [
      {
       "output_type": "stream",
       "stream": "stdout",
       "text": [
        "Profit = $2400.00 per week\n",
        "y =   80.00 units per week\n",
        "\n"
       ]
      }
     ],
     "prompt_number": 6
    },
    {
     "cell_type": "markdown",
     "metadata": {},
     "source": [
      "Compared to product X, we can manufacture and sell up 80 units per week for a total profit of \\$2,400. This is very welcome news. "
     ]
    },
    {
     "cell_type": "heading",
     "level": 4,
     "metadata": {},
     "source": [
      "Exercises"
     ]
    },
    {
     "cell_type": "markdown",
     "metadata": {},
     "source": [
      "Again, cut and paste the model for the production of Y into the MathProg web solver. Then attempt to answer these questions:\n",
      "\n",
      "1. What is the limiting resource?  That is, which of the two types of labor limits the capacity of your plant to produce more units of Y?\n",
      "\n",
      "2. What rate would you be willing to pay for the additional labor necessary to increase the production of Y?"
     ]
    },
    {
     "cell_type": "heading",
     "level": 2,
     "metadata": {
      "slideshow": {
       "slide_type": "slide"
      }
     },
     "source": [
      "Production Plan: Mixed Product Strategy"
     ]
    },
    {
     "cell_type": "markdown",
     "metadata": {},
     "source": [
      "So far we have learned that we can make \\$1,600 per week by manufacturing product X, and $2,400 per week manufacturing product Y.  Is it possible to do even better?\n",
      "\n",
      "To answer this question, we consider the possibilty of manufacturing both products in the same plant. The marketing department assures us that product Y will not affect the sales of product X.  So the same constraints hold as before, but now we have two decision variables, $x$ and $y$."
     ]
    },
    {
     "cell_type": "markdown",
     "metadata": {},
     "source": [
      "<img src=\"files/img/LP_ProductXY.png\" style=\"width:600px\"/>"
     ]
    },
    {
     "cell_type": "code",
     "collapsed": false,
     "input": [
      "%%script glpsol -m /dev/stdin -o /dev/stdout -y display.txt --out output\n",
      "\n",
      "# Declare decision variables\n",
      "var x >= 0;\n",
      "var y >= 0;\n",
      "\n",
      "# Declare the objective\n",
      "maximize Profit: (270*x - 2*x*40 - 50*x - 100*x) \n",
      "    + (210*y - 40*y - 50*y - 90*y);\n",
      "    \n",
      "# Declare problem constraints\n",
      "subject to Demand: x <= 40;\n",
      "subject to LaborA: x + y <= 80;\n",
      "subject to LaborB: 2*x + y <= 100;\n",
      "\n",
      "# Compute a solution\n",
      "solve;\n",
      "\n",
      "# Display solution values\n",
      "printf \"Profit = $%7.2f per week\\n\", Profit;\n",
      "printf \"x = %7.2f units per week\\n\", x;\n",
      "printf \"y = %7.2f units per week\\n\", y;\n",
      "\n",
      "end;\n"
     ],
     "language": "python",
     "metadata": {
      "slideshow": {
       "slide_type": "fragment"
      }
     },
     "outputs": [],
     "prompt_number": 7
    },
    {
     "cell_type": "markdown",
     "metadata": {},
     "source": [
      "Let's see how we do"
     ]
    },
    {
     "cell_type": "code",
     "collapsed": false,
     "input": [
      "print(open('display.txt').read())"
     ],
     "language": "python",
     "metadata": {},
     "outputs": [
      {
       "output_type": "stream",
       "stream": "stdout",
       "text": [
        "Profit = $2600.00 per week\n",
        "x =   20.00 units per week\n",
        "y =   60.00 units per week\n",
        "\n"
       ]
      }
     ],
     "prompt_number": 8
    },
    {
     "cell_type": "markdown",
     "metadata": {},
     "source": [
      "Remarkably, the mixed product strategy earns more profit than either of the single product srategies."
     ]
    },
    {
     "cell_type": "heading",
     "level": 2,
     "metadata": {
      "slideshow": {
       "slide_type": "slide"
      }
     },
     "source": [
      "What are the active constraints?"
     ]
    },
    {
     "cell_type": "code",
     "collapsed": false,
     "input": [
      "figure(figsize=(4,4))\n",
      "subplot(111, aspect='equal')\n",
      "axis([0,100,0,100])\n",
      "xlabel('Production Qty x')\n",
      "ylabel('Production Qty y')\n",
      "\n",
      "# Labor A constraint\n",
      "x = array([0,80])\n",
      "y = 80 - x\n",
      "plot(x,y,'r')\n",
      "\n",
      "# Labor B constraint\n",
      "x = array([0,50])\n",
      "y = 100 - 2*x\n",
      "plot(x,y,'b')\n",
      "\n",
      "# Demand constraint\n",
      "plot([40,40],[0,100],'g')\n",
      "\n",
      "# Contours of constant profit\n",
      "x = array([0,100])\n",
      "for p in linspace(0,2600,5):\n",
      "    y = (p - 40*x)/30\n",
      "    plot(x,y,'k--')\n",
      "\n",
      "# Optimum\n",
      "plot(20,60,'.',ms=20)\n",
      "text(24,65,'Optimum')\n",
      "savefig('img/LPprob01.png')"
     ],
     "language": "python",
     "metadata": {
      "slideshow": {
       "slide_type": "fragment"
      }
     },
     "outputs": [
      {
       "metadata": {},
       "output_type": "display_data",
       "png": "[encoded data removed]",
       "text": [
        "<matplotlib.figure.Figure at 0x108427d10>"
       ]
      }
     ],
     "prompt_number": 9
    },
    {
     "cell_type": "heading",
     "level": 2,
     "metadata": {
      "slideshow": {
       "slide_type": "slide"
      }
     },
     "source": [
      "What is the incremental value of labor?"
     ]
    },
    {
     "cell_type": "code",
     "collapsed": false,
     "input": [
      "%%script glpsol -m /dev/stdin -o /dev/stdout -y display.txt --out output\n",
      "\n",
      "# Declare decision variables\n",
      "var x >= 0;\n",
      "var y >= 0;\n",
      "\n",
      "# Declare the objective\n",
      "maximize Profit: (270*x - 2*x*40 - 50*x - 100*x) \n",
      "    + (210*y - 40*y - 50*y - 90*y);\n",
      "    \n",
      "# Declare problem constraints\n",
      "subject to Demand: x <= 40;\n",
      "subject to LaborA: x + y <= 80;\n",
      "subject to LaborB: 2*x + y <= 100;\n",
      "\n",
      "# Compute a solution\n",
      "solve;\n",
      "\n",
      "# Display solution values\n",
      "printf \"Profit = $%7.2f per week\\n\\n\", Profit;\n",
      "printf \"x = %7.2f units per week\\n\", x;\n",
      "printf \"y = %7.2f units per week\\n\\n\", y;\n",
      "\n",
      "printf \"Demand = %7.2f units        %7.2f\\n\", Demand, Demand.dual;\n",
      "printf \"LaborA = %7.2f hours        %7.2f\\n\", LaborA, LaborA.dual;\n",
      "printf \"LaborB = %7.2f hours        %7.2f\\n\", LaborB, LaborB.dual;\n",
      "end;\n"
     ],
     "language": "python",
     "metadata": {
      "slideshow": {
       "slide_type": "fragment"
      }
     },
     "outputs": [],
     "prompt_number": 10
    },
    {
     "cell_type": "code",
     "collapsed": false,
     "input": [
      "print(open('display.txt').read())"
     ],
     "language": "python",
     "metadata": {},
     "outputs": [
      {
       "output_type": "stream",
       "stream": "stdout",
       "text": [
        "Profit = $2600.00 per week\n",
        "\n",
        "x =   20.00 units per week\n",
        "y =   60.00 units per week\n",
        "\n",
        "Demand =   20.00 units           0.00\n",
        "LaborA =   80.00 hours          20.00\n",
        "LaborB =  100.00 hours          10.00\n",
        "\n"
       ]
      }
     ],
     "prompt_number": 11
    },
    {
     "cell_type": "heading",
     "level": 2,
     "metadata": {
      "slideshow": {
       "slide_type": "slide"
      }
     },
     "source": [
      "Theory of Constraints"
     ]
    },
    {
     "cell_type": "markdown",
     "metadata": {
      "slideshow": {
       "slide_type": "fragment"
      }
     },
     "source": [
      "* For $n$ decisions you should expect to find $n$ 'active' constraints."
     ]
    },
    {
     "cell_type": "markdown",
     "metadata": {
      "slideshow": {
       "slide_type": "fragment"
      }
     },
     "source": [
      "* Each inactive constraint has an associated 'slack.'  The associated resources have no incremental value."
     ]
    },
    {
     "cell_type": "markdown",
     "metadata": {
      "slideshow": {
       "slide_type": "fragment"
      }
     },
     "source": [
      "* Each active constraint has an associated 'shadow price'.  This is additional value of additional resources."
     ]
    },
    {
     "cell_type": "heading",
     "level": 2,
     "metadata": {
      "slideshow": {
       "slide_type": "slide"
      }
     },
     "source": [
      "Exercises"
     ]
    },
    {
     "cell_type": "markdown",
     "metadata": {},
     "source": [
      "1. Copy and paste these models into the [MathProg](http://www3.nd.edu/~jeff/mathprog/) solver. Verify the calculations and conclusions shown above."
     ]
    }
   ],
   "metadata": {}
  }
 ]
}