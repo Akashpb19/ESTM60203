{
 "metadata": {
  "name": ""
 },
 "nbformat": 3,
 "nbformat_minor": 0,
 "worksheets": [
  {
   "cells": [
    {
     "cell_type": "heading",
     "level": 1,
     "metadata": {},
     "source": [
      "Blending and Mixture Problems"
     ]
    },
    {
     "cell_type": "heading",
     "level": 2,
     "metadata": {},
     "source": [
      "Agenda"
     ]
    },
    {
     "cell_type": "markdown",
     "metadata": {},
     "source": [
      "* Show how to recognize and formulate a broad class of useful optimization problems"
     ]
    },
    {
     "cell_type": "markdown",
     "metadata": {},
     "source": [
      "* Show how to model and interpret solutions to these problems using MathProg/AMPL."
     ]
    },
    {
     "cell_type": "markdown",
     "metadata": {},
     "source": [
      "* Demonstrate best practices in developing models that can be reused with many different data sources."
     ]
    },
    {
     "cell_type": "heading",
     "level": 2,
     "metadata": {},
     "source": [
      "Diet Problem"
     ]
    },
    {
     "cell_type": "markdown",
     "metadata": {},
     "source": [
      "We'll begin this problem by assembling problem data into three [pandas DataFrames](http://pandas.pydata.org/) (some information on DataFrames is [here](http://pandas.pydata.org/pandas-docs/dev/dsintro.html) and [here](http://pandas.pydata.org/pandas-docs/dev/10min.html?highlight=panels)).. In larger scale problems, this data  would be extracted from spreadsheets or databases.  This particular data set is from Fourer, 2003."
     ]
    },
    {
     "cell_type": "heading",
     "level": 3,
     "metadata": {},
     "source": [
      "Weekly Nutrition Requirements"
     ]
    },
    {
     "cell_type": "markdown",
     "metadata": {},
     "source": [
      "The first data set contains weekly nutrition requirements expressed a percentage of the recommended minimum daily requirements."
     ]
    },
    {
     "cell_type": "code",
     "collapsed": false,
     "input": [
      "import pandas as pd\n",
      "\n",
      "requirements = {'A' : [700, 10000],\n",
      "       'C' : [700, 10000],\n",
      "       'B1': [700, 10000],\n",
      "       'B2': [700, 10000]}\n",
      "\n",
      "requirements = pd.DataFrame(requirements.values(), index = requirements.keys(), columns = ['n_min', 'n_max'])\n",
      "display(requirements)"
     ],
     "language": "python",
     "metadata": {},
     "outputs": [
      {
       "html": [
        "<div style=\"max-height:1000px;max-width:1500px;overflow:auto;\">\n",
        "<table border=\"1\" class=\"dataframe\">\n",
        "  <thead>\n",
        "    <tr style=\"text-align: right;\">\n",
        "      <th></th>\n",
        "      <th>n_min</th>\n",
        "      <th>n_max</th>\n",
        "    </tr>\n",
        "  </thead>\n",
        "  <tbody>\n",
        "    <tr>\n",
        "      <th>A</th>\n",
        "      <td> 700</td>\n",
        "      <td> 10000</td>\n",
        "    </tr>\n",
        "    <tr>\n",
        "      <th>C</th>\n",
        "      <td> 700</td>\n",
        "      <td> 10000</td>\n",
        "    </tr>\n",
        "    <tr>\n",
        "      <th>B1</th>\n",
        "      <td> 700</td>\n",
        "      <td> 10000</td>\n",
        "    </tr>\n",
        "    <tr>\n",
        "      <th>B2</th>\n",
        "      <td> 700</td>\n",
        "      <td> 10000</td>\n",
        "    </tr>\n",
        "  </tbody>\n",
        "</table>\n",
        "<p>4 rows \u00d7 2 columns</p>\n",
        "</div>"
       ],
       "metadata": {},
       "output_type": "display_data",
       "text": [
        "    n_min  n_max\n",
        "A     700  10000\n",
        "C     700  10000\n",
        "B1    700  10000\n",
        "B2    700  10000\n",
        "\n",
        "[4 rows x 2 columns]"
       ]
      }
     ],
     "prompt_number": 47
    },
    {
     "cell_type": "heading",
     "level": 3,
     "metadata": {},
     "source": [
      "Nutrition Data"
     ]
    },
    {
     "cell_type": "markdown",
     "metadata": {},
     "source": [
      "The second data set includes 'label data' from some typical package goods."
     ]
    },
    {
     "cell_type": "code",
     "collapsed": false,
     "input": [
      "nutrition = {'BEEF' : {'A': 60, 'C': 20, 'B1': 10, 'B2': 15},\n",
      "        'CHK'  : {'A':  8, 'C':  0, 'B1': 20, 'B2': 20},\n",
      "        'FSH'  : {'A':  8, 'C': 10, 'B1': 15, 'B2': 10},\n",
      "        'HAM'  : {'A': 40, 'C': 40, 'B1': 35, 'B2': 10},\n",
      "        'MCH'  : {'A': 15, 'C': 35, 'B1': 15, 'B2': 15},\n",
      "        'MTL'  : {'A': 70, 'C': 30, 'B1': 15, 'B2': 15},\n",
      "        'SPG'  : {'A': 25, 'C': 50, 'B1': 25, 'B2': 15},\n",
      "        'TUR'  : {'A': 60, 'C': 20, 'B1': 15, 'B2': 10}}\n",
      "\n",
      "nutrition = pd.DataFrame.from_dict(nutrition).transpose()\n",
      "display(nutrition)"
     ],
     "language": "python",
     "metadata": {},
     "outputs": [
      {
       "html": [
        "<div style=\"max-height:1000px;max-width:1500px;overflow:auto;\">\n",
        "<table border=\"1\" class=\"dataframe\">\n",
        "  <thead>\n",
        "    <tr style=\"text-align: right;\">\n",
        "      <th></th>\n",
        "      <th>A</th>\n",
        "      <th>B1</th>\n",
        "      <th>B2</th>\n",
        "      <th>C</th>\n",
        "    </tr>\n",
        "  </thead>\n",
        "  <tbody>\n",
        "    <tr>\n",
        "      <th>BEEF</th>\n",
        "      <td> 60</td>\n",
        "      <td> 10</td>\n",
        "      <td> 15</td>\n",
        "      <td> 20</td>\n",
        "    </tr>\n",
        "    <tr>\n",
        "      <th>CHK</th>\n",
        "      <td>  8</td>\n",
        "      <td> 20</td>\n",
        "      <td> 20</td>\n",
        "      <td>  0</td>\n",
        "    </tr>\n",
        "    <tr>\n",
        "      <th>FSH</th>\n",
        "      <td>  8</td>\n",
        "      <td> 15</td>\n",
        "      <td> 10</td>\n",
        "      <td> 10</td>\n",
        "    </tr>\n",
        "    <tr>\n",
        "      <th>HAM</th>\n",
        "      <td> 40</td>\n",
        "      <td> 35</td>\n",
        "      <td> 10</td>\n",
        "      <td> 40</td>\n",
        "    </tr>\n",
        "    <tr>\n",
        "      <th>MCH</th>\n",
        "      <td> 15</td>\n",
        "      <td> 15</td>\n",
        "      <td> 15</td>\n",
        "      <td> 35</td>\n",
        "    </tr>\n",
        "    <tr>\n",
        "      <th>MTL</th>\n",
        "      <td> 70</td>\n",
        "      <td> 15</td>\n",
        "      <td> 15</td>\n",
        "      <td> 30</td>\n",
        "    </tr>\n",
        "    <tr>\n",
        "      <th>SPG</th>\n",
        "      <td> 25</td>\n",
        "      <td> 25</td>\n",
        "      <td> 15</td>\n",
        "      <td> 50</td>\n",
        "    </tr>\n",
        "    <tr>\n",
        "      <th>TUR</th>\n",
        "      <td> 60</td>\n",
        "      <td> 15</td>\n",
        "      <td> 10</td>\n",
        "      <td> 20</td>\n",
        "    </tr>\n",
        "  </tbody>\n",
        "</table>\n",
        "<p>8 rows \u00d7 4 columns</p>\n",
        "</div>"
       ],
       "metadata": {},
       "output_type": "display_data",
       "text": [
        "       A  B1  B2   C\n",
        "BEEF  60  10  15  20\n",
        "CHK    8  20  20   0\n",
        "FSH    8  15  10  10\n",
        "HAM   40  35  10  40\n",
        "MCH   15  15  15  35\n",
        "MTL   70  15  15  30\n",
        "SPG   25  25  15  50\n",
        "TUR   60  15  10  20\n",
        "\n",
        "[8 rows x 4 columns]"
       ]
      }
     ],
     "prompt_number": 49
    },
    {
     "cell_type": "heading",
     "level": 3,
     "metadata": {},
     "source": [
      "Price Data"
     ]
    },
    {
     "cell_type": "markdown",
     "metadata": {},
     "source": [
      "The third data set provides price information for the packaged foods."
     ]
    },
    {
     "cell_type": "code",
     "collapsed": false,
     "input": [
      "import pandas as pd\n",
      "\n",
      "price ={'BEEF': ['Beef', 3.19],\n",
      "        'CHK' : ['Chicken', 2.59],\n",
      "        'FSH' : ['Fish', 2.29],\n",
      "        'HAM' : ['Ham', 2.89],\n",
      "        'MCH' : ['Macaroni & Cheese', 1.89],\n",
      "        'MTL' : ['Meat Loaf', 1.99],\n",
      "        'SPG' : ['Spaghetti', 1.99],\n",
      "        'TUR' : ['Turkey', 2.49]}\n",
      "\n",
      "price = pd.DataFrame(price.values(), index = price.keys(), columns = ['food','price'])\n",
      "display(price)"
     ],
     "language": "python",
     "metadata": {},
     "outputs": [
      {
       "html": [
        "<div style=\"max-height:1000px;max-width:1500px;overflow:auto;\">\n",
        "<table border=\"1\" class=\"dataframe\">\n",
        "  <thead>\n",
        "    <tr style=\"text-align: right;\">\n",
        "      <th></th>\n",
        "      <th>food</th>\n",
        "      <th>price</th>\n",
        "    </tr>\n",
        "  </thead>\n",
        "  <tbody>\n",
        "    <tr>\n",
        "      <th>MTL</th>\n",
        "      <td>         Meat Loaf</td>\n",
        "      <td> 1.99</td>\n",
        "    </tr>\n",
        "    <tr>\n",
        "      <th>HAM</th>\n",
        "      <td>               Ham</td>\n",
        "      <td> 2.89</td>\n",
        "    </tr>\n",
        "    <tr>\n",
        "      <th>BEEF</th>\n",
        "      <td>              Beef</td>\n",
        "      <td> 3.19</td>\n",
        "    </tr>\n",
        "    <tr>\n",
        "      <th>MCH</th>\n",
        "      <td> Macaroni &amp; Cheese</td>\n",
        "      <td> 1.89</td>\n",
        "    </tr>\n",
        "    <tr>\n",
        "      <th>FSH</th>\n",
        "      <td>              Fish</td>\n",
        "      <td> 2.29</td>\n",
        "    </tr>\n",
        "    <tr>\n",
        "      <th>TUR</th>\n",
        "      <td>            Turkey</td>\n",
        "      <td> 2.49</td>\n",
        "    </tr>\n",
        "    <tr>\n",
        "      <th>CHK</th>\n",
        "      <td>           Chicken</td>\n",
        "      <td> 2.59</td>\n",
        "    </tr>\n",
        "    <tr>\n",
        "      <th>SPG</th>\n",
        "      <td>         Spaghetti</td>\n",
        "      <td> 1.99</td>\n",
        "    </tr>\n",
        "  </tbody>\n",
        "</table>\n",
        "<p>8 rows \u00d7 2 columns</p>\n",
        "</div>"
       ],
       "metadata": {},
       "output_type": "display_data",
       "text": [
        "                   food  price\n",
        "MTL           Meat Loaf   1.99\n",
        "HAM                 Ham   2.89\n",
        "BEEF               Beef   3.19\n",
        "MCH   Macaroni & Cheese   1.89\n",
        "FSH                Fish   2.29\n",
        "TUR              Turkey   2.49\n",
        "CHK             Chicken   2.59\n",
        "SPG           Spaghetti   1.99\n",
        "\n",
        "[8 rows x 2 columns]"
       ]
      }
     ],
     "prompt_number": 48
    },
    {
     "cell_type": "heading",
     "level": 3,
     "metadata": {},
     "source": [
      "Problem Statement"
     ]
    },
    {
     "cell_type": "markdown",
     "metadata": {},
     "source": [
      "Determine a shopping list that meets the nutrition requirements for minimum cost."
     ]
    },
    {
     "cell_type": "heading",
     "level": 2,
     "metadata": {},
     "source": [
      "First Model"
     ]
    },
    {
     "cell_type": "markdown",
     "metadata": {},
     "source": [
      "This first attempt at a model for the diet problem will encode the basic elements of the problem. We'll include a decision variable for each type of packaged good, and explicitly write out the objective function, and each of the nutrition requirements."
     ]
    },
    {
     "cell_type": "code",
     "collapsed": false,
     "input": [
      "%%script glpsol -m /dev/stdin -o output.txt\n",
      "\n",
      "var Xbeef >= 0; \n",
      "var Xchk  >= 0; \n",
      "var Xfish >= 0;\n",
      "var Xham  >= 0; \n",
      "var Xmch  >= 0; \n",
      "var Xmtl  >= 0;\n",
      "var Xspg  >= 0; \n",
      "var Xtur  >= 0;\n",
      "\n",
      "minimize cost: \n",
      "    3.19*Xbeef + 2.59*Xchk + 2.29*Xfish + 2.89*Xham +\n",
      "    1.89*Xmch  + 1.99*Xmtl + 1.99*Xspg  + 2.49*Xtur;\n",
      "    \n",
      "subject to A:\n",
      "    60*Xbeef +  8*Xchk +  8*Xfish + 40*Xham\n",
      "  + 15*Xmch  + 70*Xmtl + 25*Xspg  + 60*Xtur >= 700;\n",
      "    \n",
      "subject to C:\n",
      "    20*Xbeef + 0*Xchk + 10*Xfish + 40*Xham\n",
      "  + 35*Xmch + 30*Xmtl + 50*Xspg + 20*Xtur >= 700;\n",
      "    \n",
      "subject to B1:\n",
      "    10*Xbeef + 20*Xchk + 15*Xfish + 35*Xham\n",
      "  + 15*Xmch + 15*Xmtl + 25*Xspg + 15*Xtur >= 700;\n",
      "    \n",
      "subject to B2:\n",
      "    15*Xbeef + 20*Xchk + 10*Xfish + 10*Xham\n",
      "  + 15*Xmch + 15*Xmtl + 15*Xspg + 10*Xtur >= 700;\n",
      "\n",
      "end;\n"
     ],
     "language": "python",
     "metadata": {},
     "outputs": [
      {
       "output_type": "stream",
       "stream": "stdout",
       "text": [
        "GLPSOL: GLPK LP/MIP Solver, v4.52\n",
        "Parameter(s) specified in the command line:\n",
        " -m /dev/stdin -o output.txt\n",
        "Reading model section from /dev/stdin...\n",
        "/dev/stdin:31: warning: final NL missing before end of file\n",
        "31 lines were read\n",
        "Generating cost...\n",
        "Generating A...\n",
        "Generating C...\n",
        "Generating B1...\n",
        "Generating B2...\n",
        "Model has been successfully generated\n",
        "GLPK Simplex Optimizer, v4.52\n",
        "5 rows, 8 columns, 39 non-zeros\n",
        "Preprocessing...\n",
        "4 rows, 8 columns, 31 non-zeros\n",
        "Scaling...\n",
        " A: min|aij| =  8.000e+00  max|aij| =  7.000e+01  ratio =  8.750e+00\n",
        "GM: min|aij| =  5.017e-01  max|aij| =  1.993e+00  ratio =  3.972e+00\n",
        "EQ: min|aij| =  2.549e-01  max|aij| =  1.000e+00  ratio =  3.922e+00\n",
        "Constructing initial basis...\n",
        "Size of triangular part is 4\n",
        "      0: obj =   0.000000000e+00  infeas =  2.845e+03 (0)\n",
        "*     4: obj =   1.185625000e+02  infeas =  0.000e+00 (0)\n",
        "*     7: obj =   8.820000000e+01  infeas =  0.000e+00 (0)\n",
        "OPTIMAL LP SOLUTION FOUND\n",
        "Time used:   0.0 secs\n",
        "Memory used: 0.1 Mb (110559 bytes)\n",
        "Writing basic solution to `output.txt'...\n"
       ]
      }
     ],
     "prompt_number": 54
    },
    {
     "cell_type": "code",
     "collapsed": false,
     "input": [
      "f = open('output.txt');\n",
      "print(f.read())\n",
      "f.close()"
     ],
     "language": "python",
     "metadata": {},
     "outputs": [
      {
       "output_type": "stream",
       "stream": "stdout",
       "text": [
        "Problem:    stdin\n",
        "Rows:       5\n",
        "Columns:    8\n",
        "Non-zeros:  39\n",
        "Status:     OPTIMAL\n",
        "Objective:  cost = 88.2 (MINimum)\n",
        "\n",
        "   No.   Row name   St   Activity     Lower bound   Upper bound    Marginal\n",
        "------ ------------ -- ------------- ------------- ------------- -------------\n",
        "     1 cost         B           88.2                             \n",
        "     2 A            NL           700           700         10000    0.00181818 \n",
        "     3 C            B        1633.33           700               \n",
        "     4 B1           B            700           700               \n",
        "     5 B2           NL           700           700                    0.124182 \n",
        "\n",
        "   No. Column name  St   Activity     Lower bound   Upper bound    Marginal\n",
        "------ ------------ -- ------------- ------------- ------------- -------------\n",
        "     1 Xbeef        NL             0             0                     1.21818 \n",
        "     2 Xchk         NL             0             0                   0.0918182 \n",
        "     3 Xfish        NL             0             0                     1.03364 \n",
        "     4 Xham         NL             0             0                     1.57545 \n",
        "     5 Xmch         B        46.6667             0               \n",
        "     6 Xmtl         B              0             0               \n",
        "     7 Xspg         NL             0             0                   0.0818182 \n",
        "     8 Xtur         NL             0             0                     1.13909 \n",
        "\n",
        "Karush-Kuhn-Tucker optimality conditions:\n",
        "\n",
        "KKT.PE: max.abs.err = 1.14e-13 on row 2\n",
        "        max.rel.err = 8.11e-17 on row 2\n",
        "        High quality\n",
        "\n",
        "KKT.PB: max.abs.err = 1.14e-13 on row 4\n",
        "        max.rel.err = 1.62e-16 on row 4\n",
        "        High quality\n",
        "\n",
        "KKT.DE: max.abs.err = 2.22e-16 on column 1\n",
        "        max.rel.err = 6.00e-17 on column 8\n",
        "        High quality\n",
        "\n",
        "KKT.DB: max.abs.err = 0.00e+00 on row 0\n",
        "        max.rel.err = 0.00e+00 on row 0\n",
        "        High quality\n",
        "\n",
        "End of output\n",
        "\n"
       ]
      }
     ],
     "prompt_number": 55
    },
    {
     "cell_type": "heading",
     "level": 3,
     "metadata": {},
     "source": [
      "Questions"
     ]
    },
    {
     "cell_type": "markdown",
     "metadata": {},
     "source": [
      "* What is the solution?  What are we eating, and how much does it cost?"
     ]
    },
    {
     "cell_type": "markdown",
     "metadata": {},
     "source": [
      "* Is this a realistic solution? How would like to modify the problem?"
     ]
    },
    {
     "cell_type": "markdown",
     "metadata": {},
     "source": [
      "* What do the shadow costs (also called marginal costs, or sensitivities) mean?"
     ]
    },
    {
     "cell_type": "markdown",
     "metadata": {},
     "source": [
      "* Can we apply this same model to other data sets?"
     ]
    },
    {
     "cell_type": "heading",
     "level": 3,
     "metadata": {},
     "source": [
      "Second Model"
     ]
    },
    {
     "cell_type": "markdown",
     "metadata": {},
     "source": [
      "The major goals for this second version of the model is to provide means for specifying variety in the diet, and to generalize the model so that it can be applied to other data sets."
     ]
    },
    {
     "cell_type": "heading",
     "level": 4,
     "metadata": {},
     "source": [
      "Create a data file to hold problem specific data."
     ]
    },
    {
     "cell_type": "code",
     "collapsed": false,
     "input": [
      "%%writefile diet.dat\n",
      "\n",
      "set NUTR := A B1 B2 C ;\n",
      "set FOOD := BEEF CHK FISH HAM MCH MTL SPG TUR ;\n",
      "    \n",
      "param:\n",
      "          cost  f_min  f_max :=\n",
      "    BEEF  3.19  0      100\n",
      "    CHK   2.59  0      100\n",
      "    FISH  2.29  0      100\n",
      "    HAM   2.89  0      100\n",
      "    MCH   1.89  0      100\n",
      "    MTL   1.99  0      100\n",
      "    SPG   1.99  0      100\n",
      "    TUR   2.49  0      100 ;\n",
      "    \n",
      "param:  n_min  n_max :=\n",
      "    A   700    10000\n",
      "    C   700    10000\n",
      "    B1  700    10000\n",
      "    B2  700    10000 ;\n",
      "\n",
      "param amt :\n",
      "           A C B1 B2 :=\n",
      "    BEEF  60 20 10 15\n",
      "    CHK    8  0 20 20\n",
      "    FISH   8 10 15 10\n",
      "    HAM   40 40 35 10\n",
      "    MCH   15 35 15 15\n",
      "    MTL   70 30 15 15\n",
      "    SPG   25 50 25 15\n",
      "    TUR   60 20 15 10 ;\n",
      "\n",
      "end;"
     ],
     "language": "python",
     "metadata": {},
     "outputs": [
      {
       "output_type": "stream",
       "stream": "stdout",
       "text": [
        "Overwriting diet.dat\n"
       ]
      }
     ],
     "prompt_number": 65
    },
    {
     "cell_type": "heading",
     "level": 4,
     "metadata": {},
     "source": [
      "Create a model describing the desired solution"
     ]
    },
    {
     "cell_type": "markdown",
     "metadata": {},
     "source": [
      "The new model adds a number of additional features, including\n",
      "\n",
      "* Can set bounds on the minimum and maximum number of packages to buy\n",
      "* Enforces upper and lower bounds on "
     ]
    },
    {
     "cell_type": "code",
     "collapsed": false,
     "input": [
      "%%script glpsol -m /dev/stdin -d diet.dat -o output.txt\n",
      "\n",
      "set NUTR;\n",
      "set FOOD;\n",
      "\n",
      "param cost {FOOD}  > 0;\n",
      "param f_min {FOOD} >= 0;\n",
      "param f_max {j in FOOD} >= f_min[j];\n",
      "param n_min {NUTR} >= 0;\n",
      "param n_max {i in NUTR} >= n_min[i];\n",
      "param amt {FOOD,NUTR} >= 0;\n",
      "\n",
      "var Buy {j in FOOD} >= f_min[j], <= f_max[j];\n",
      "\n",
      "minimize Total_Cost: sum {j in FOOD} cost[j] * Buy[j];\n",
      "    \n",
      "subject to Diet {i in NUTR}:\n",
      "    n_min[i] <= sum {j in FOOD} amt[j,i] * Buy[j] <= n_max[i];\n",
      "\n",
      "end;"
     ],
     "language": "python",
     "metadata": {},
     "outputs": [
      {
       "output_type": "stream",
       "stream": "stdout",
       "text": [
        "GLPSOL: GLPK LP/MIP Solver, v4.52\n",
        "Parameter(s) specified in the command line:\n",
        " -m /dev/stdin -d diet.dat -o output.txt\n",
        "Reading model section from /dev/stdin...\n",
        "/dev/stdin:19: warning: final NL missing before end of file\n",
        "19 lines were read\n",
        "Reading data section from diet.dat...\n",
        "diet.dat:33: warning: final NL missing before end of file\n",
        "33 lines were read\n",
        "Generating Total_Cost...\n",
        "Generating Diet...\n",
        "Model has been successfully generated\n",
        "GLPK Simplex Optimizer, v4.52\n",
        "5 rows, 8 columns, 39 non-zeros\n",
        "Preprocessing...\n",
        "4 rows, 8 columns, 31 non-zeros\n",
        "Scaling...\n",
        " A: min|aij| =  8.000e+00  max|aij| =  7.000e+01  ratio =  8.750e+00\n",
        "GM: min|aij| =  5.017e-01  max|aij| =  1.993e+00  ratio =  3.972e+00\n",
        "EQ: min|aij| =  2.549e-01  max|aij| =  1.000e+00  ratio =  3.922e+00\n",
        "Constructing initial basis...\n",
        "Size of triangular part is 4\n",
        "      0: obj =   0.000000000e+00  infeas =  2.845e+03 (0)\n",
        "*     4: obj =   1.185625000e+02  infeas =  0.000e+00 (0)\n",
        "*     7: obj =   8.820000000e+01  infeas =  0.000e+00 (0)\n",
        "OPTIMAL LP SOLUTION FOUND\n",
        "Time used:   0.0 secs\n",
        "Memory used: 0.1 Mb (135039 bytes)\n",
        "Writing basic solution to `output.txt'...\n"
       ]
      }
     ],
     "prompt_number": 66
    },
    {
     "cell_type": "code",
     "collapsed": false,
     "input": [
      "f = open('output.txt');\n",
      "print(f.read())\n",
      "f.close()"
     ],
     "language": "python",
     "metadata": {},
     "outputs": [
      {
       "output_type": "stream",
       "stream": "stdout",
       "text": [
        "Problem:    stdin\n",
        "Rows:       5\n",
        "Columns:    8\n",
        "Non-zeros:  39\n",
        "Status:     OPTIMAL\n",
        "Objective:  Total_Cost = 88.2 (MINimum)\n",
        "\n",
        "   No.   Row name   St   Activity     Lower bound   Upper bound    Marginal\n",
        "------ ------------ -- ------------- ------------- ------------- -------------\n",
        "     1 Total_Cost   B           88.2                             \n",
        "     2 Diet[A]      NL           700           700         10000    0.00181818 \n",
        "     3 Diet[B1]     B            700           700         10000 \n",
        "     4 Diet[B2]     NL           700           700         10000      0.124182 \n",
        "     5 Diet[C]      B        1633.33           700         10000 \n",
        "\n",
        "   No. Column name  St   Activity     Lower bound   Upper bound    Marginal\n",
        "------ ------------ -- ------------- ------------- ------------- -------------\n",
        "     1 Buy[BEEF]    NL             0             0           100       1.21818 \n",
        "     2 Buy[CHK]     NL             0             0           100     0.0918182 \n",
        "     3 Buy[FISH]    NL             0             0           100       1.03364 \n",
        "     4 Buy[HAM]     NL             0             0           100       1.57545 \n",
        "     5 Buy[MCH]     B        46.6667             0           100 \n",
        "     6 Buy[MTL]     B              0             0           100 \n",
        "     7 Buy[SPG]     NL             0             0           100     0.0818182 \n",
        "     8 Buy[TUR]     NL             0             0           100       1.13909 \n",
        "\n",
        "Karush-Kuhn-Tucker optimality conditions:\n",
        "\n",
        "KKT.PE: max.abs.err = 1.14e-13 on row 4\n",
        "        max.rel.err = 8.11e-17 on row 4\n",
        "        High quality\n",
        "\n",
        "KKT.PB: max.abs.err = 1.14e-13 on row 3\n",
        "        max.rel.err = 1.62e-16 on row 3\n",
        "        High quality\n",
        "\n",
        "KKT.DE: max.abs.err = 2.22e-16 on column 1\n",
        "        max.rel.err = 6.00e-17 on column 8\n",
        "        High quality\n",
        "\n",
        "KKT.DB: max.abs.err = 0.00e+00 on row 0\n",
        "        max.rel.err = 0.00e+00 on row 0\n",
        "        High quality\n",
        "\n",
        "End of output\n",
        "\n"
       ]
      }
     ],
     "prompt_number": 67
    },
    {
     "cell_type": "heading",
     "level": 2,
     "metadata": {},
     "source": [
      "Third Model"
     ]
    },
    {
     "cell_type": "code",
     "collapsed": false,
     "input": [
      "%%writefile diet.dat\n",
      "\n",
      "set NUTR := A B1 B2 C NA CAL ;\n",
      "set FOOD := BEEF CHK FISH HAM MCH MTL SPG TUR ;\n",
      "\n",
      "param: cost f_min f_max :=\n",
      "    BEEF  3.19 0 100\n",
      "    CHK   2.59 0 100\n",
      "    FISH  2.29 0 100\n",
      "    HAM   2.89 0 100\n",
      "    MCH   1.89 0 100\n",
      "    MTL   1.99 0 100\n",
      "    SPG   1.99 0 100\n",
      "    TUR   2.49 0 100 ;\n",
      "    \n",
      "param: n_min n_max :=\n",
      "    A  700 20000\n",
      "    C  700 20000\n",
      "    B1 700 20000\n",
      "    B2 700 20000\n",
      "    NA   0 40000\n",
      "    CAL 16000 24000 ;\n",
      "    \n",
      "param amt :\n",
      "          A  C B1 B2 NA  CAL :=\n",
      "    BEEF 60 20 10 15 938 295\n",
      "    CHK   8 0 20 20 2180 770\n",
      "    FISH  8 10 15 10 945 440\n",
      "    HAM  40 40 35 10 278 430\n",
      "    MCH  15 35 15 15 1182 315\n",
      "    MTL  70 30 15 15 896 400\n",
      "    SPG  25 50 25 15 1329 370\n",
      "    TUR  60 20 15 10 1397 450 ;"
     ],
     "language": "python",
     "metadata": {},
     "outputs": [
      {
       "output_type": "stream",
       "stream": "stdout",
       "text": [
        "Overwriting diet.dat\n"
       ]
      }
     ],
     "prompt_number": 68
    },
    {
     "cell_type": "code",
     "collapsed": false,
     "input": [
      "%%script glpsol -m /dev/stdin -d diet.dat -o output.txt\n",
      "\n",
      "set NUTR;\n",
      "set FOOD;\n",
      "\n",
      "param cost {FOOD} > 0;\n",
      "param f_min {FOOD} >= 0;\n",
      "param f_max {FOOD} >= 0;\n",
      "\n",
      "param n_min {NUTR} >= 0;\n",
      "param n_max {i in NUTR} >= n_min[i];\n",
      "param amt {FOOD,NUTR} >= 0;\n",
      "\n",
      "var Buy {j in FOOD} >= f_min[j], <= f_max[j];\n",
      "\n",
      "minimize Total_Cost: sum {j in FOOD} cost[j] * Buy[j];\n",
      "    \n",
      "subject to Diet {i in NUTR}:\n",
      "    n_min[i] <= sum {j in FOOD} amt[j,i] * Buy[j] <= n_max[i];\n",
      "\n",
      "end;"
     ],
     "language": "python",
     "metadata": {},
     "outputs": [
      {
       "output_type": "stream",
       "stream": "stdout",
       "text": [
        "GLPSOL: GLPK LP/MIP Solver, v4.52\n",
        "Parameter(s) specified in the command line:\n",
        " -m /dev/stdin -d diet.dat -o output.txt\n",
        "Reading model section from /dev/stdin...\n",
        "/dev/stdin:20: warning: final NL missing before end of file\n",
        "20 lines were read\n",
        "Reading data section from diet.dat...\n",
        "diet.dat:32: warning: final NL missing before end of file\n",
        "diet.dat:32: warning: unexpected end of file; missing end statement inserted\n",
        "32 lines were read\n",
        "Generating Total_Cost...\n",
        "Generating Diet...\n",
        "Model has been successfully generated\n",
        "GLPK Simplex Optimizer, v4.52\n",
        "7 rows, 8 columns, 55 non-zeros\n",
        "Preprocessing...\n",
        "6 rows, 8 columns, 47 non-zeros\n",
        "Scaling...\n",
        " A: min|aij| =  8.000e+00  max|aij| =  2.180e+03  ratio =  2.725e+02\n",
        "GM: min|aij| =  3.996e-01  max|aij| =  2.502e+00  ratio =  6.262e+00\n",
        "EQ: min|aij| =  1.597e-01  max|aij| =  1.000e+00  ratio =  6.262e+00\n",
        "Constructing initial basis...\n",
        "Size of triangular part is 6\n",
        "      0: obj =   0.000000000e+00  infeas =  9.821e+01 (0)\n",
        "*     7: obj =   1.456968270e+02  infeas =  0.000e+00 (0)\n",
        "*     9: obj =   1.017440501e+02  infeas =  0.000e+00 (0)\n",
        "OPTIMAL LP SOLUTION FOUND\n",
        "Time used:   0.0 secs\n",
        "Memory used: 0.1 Mb (136893 bytes)\n",
        "Writing basic solution to `output.txt'...\n"
       ]
      }
     ],
     "prompt_number": 70
    },
    {
     "cell_type": "code",
     "collapsed": false,
     "input": [
      "f = open('output.txt');\n",
      "print(f.read())\n",
      "f.close()"
     ],
     "language": "python",
     "metadata": {},
     "outputs": [
      {
       "output_type": "stream",
       "stream": "stdout",
       "text": [
        "Problem:    stdin\n",
        "Rows:       7\n",
        "Columns:    8\n",
        "Non-zeros:  55\n",
        "Status:     OPTIMAL\n",
        "Objective:  Total_Cost = 101.7440501 (MINimum)\n",
        "\n",
        "   No.   Row name   St   Activity     Lower bound   Upper bound    Marginal\n",
        "------ ------------ -- ------------- ------------- ------------- -------------\n",
        "     1 Total_Cost   B        101.744                             \n",
        "     2 Diet[A]      B        3228.81           700         20000 \n",
        "     3 Diet[B1]     B        841.962           700         20000 \n",
        "     4 Diet[B2]     NL           700           700         20000      0.425098 \n",
        "     5 Diet[C]      B        1513.57           700         20000 \n",
        "     6 Diet[NA]     NU         40000             0         40000   -0.00489562 \n",
        "     7 Diet[CAL]    B        19594.2         16000         24000 \n",
        "\n",
        "   No. Column name  St   Activity     Lower bound   Upper bound    Marginal\n",
        "------ ------------ -- ------------- ------------- ------------- -------------\n",
        "     1 Buy[BEEF]    NL             0             0           100       1.40562 \n",
        "     2 Buy[CHK]     NL             0             0           100       4.76048 \n",
        "     3 Buy[FISH]    NL             0             0           100       2.66538 \n",
        "     4 Buy[HAM]     B         5.6785             0           100 \n",
        "     5 Buy[MCH]     NL             0             0           100       1.30015 \n",
        "     6 Buy[MTL]     B         42.881             0           100 \n",
        "     7 Buy[SPG]     NL             0             0           100        2.1198 \n",
        "     8 Buy[TUR]     NL             0             0           100       5.07819 \n",
        "\n",
        "Karush-Kuhn-Tucker optimality conditions:\n",
        "\n",
        "KKT.PE: max.abs.err = 0.00e+00 on row 0\n",
        "        max.rel.err = 0.00e+00 on row 0\n",
        "        High quality\n",
        "\n",
        "KKT.PB: max.abs.err = 0.00e+00 on row 0\n",
        "        max.rel.err = 0.00e+00 on row 0\n",
        "        High quality\n",
        "\n",
        "KKT.DE: max.abs.err = 8.88e-16 on column 4\n",
        "        max.rel.err = 9.35e-17 on column 4\n",
        "        High quality\n",
        "\n",
        "KKT.DB: max.abs.err = 0.00e+00 on row 0\n",
        "        max.rel.err = 0.00e+00 on row 0\n",
        "        High quality\n",
        "\n",
        "End of output\n",
        "\n"
       ]
      }
     ],
     "prompt_number": 71
    },
    {
     "cell_type": "heading",
     "level": 2,
     "metadata": {},
     "source": [
      "Fourth Model"
     ]
    },
    {
     "cell_type": "markdown",
     "metadata": {},
     "source": [
      "Here we demonstrate a method of extracting data from the model and exporting to either a spreadsheet or a python pandas object for analytics."
     ]
    },
    {
     "cell_type": "code",
     "collapsed": false,
     "input": [
      "%%script glpsol -m /dev/stdin -d diet.dat -o output.txt --out output\n",
      "\n",
      "set NUTR;\n",
      "set FOOD;\n",
      "\n",
      "param cost {FOOD} > 0;\n",
      "param f_min {FOOD} >= 0;\n",
      "param f_max {FOOD} >= 0;\n",
      "\n",
      "param n_min {NUTR} >= 0;\n",
      "param n_max {i in NUTR} >= n_min[i];\n",
      "param amt {FOOD,NUTR} >= 0;\n",
      "\n",
      "var Buy {j in FOOD} >= f_min[j], <= f_max[j];\n",
      "\n",
      "minimize Total_Cost: sum {j in FOOD} cost[j] * Buy[j];\n",
      "    \n",
      "subject to Diet {i in NUTR}:\n",
      "    n_min[i] <= sum {j in FOOD} amt[j,i] * Buy[j] <= n_max[i];\n",
      "    \n",
      "solve;\n",
      "\n",
      "table results {f in FOOD} OUT \"CSV\" \"output.csv\" \"Table\" :\n",
      "    f~Food,\n",
      "    Buy[f]~Quantity,\n",
      "    cost[f]~Price;\n",
      "    \n",
      "\n",
      "end;"
     ],
     "language": "python",
     "metadata": {},
     "outputs": [],
     "prompt_number": 84
    },
    {
     "cell_type": "code",
     "collapsed": false,
     "input": [
      "soln = pd.read_csv('output.csv')\n",
      "ax = soln['Quantity'].plot(kind='bar')\n",
      "ax.set_xticklabels(soln['Food']);"
     ],
     "language": "python",
     "metadata": {},
     "outputs": [
      {
       "metadata": {},
       "output_type": "display_data",
       "png": "[encoded data removed]",
       "text": [
        "<matplotlib.figure.Figure at 0x107718810>"
       ]
      }
     ],
     "prompt_number": 82
    },
    {
     "cell_type": "code",
     "collapsed": false,
     "input": [],
     "language": "python",
     "metadata": {},
     "outputs": []
    }
   ],
   "metadata": {}
  }
 ]
}