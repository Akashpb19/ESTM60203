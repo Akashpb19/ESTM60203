{
 "metadata": {
  "name": "",
  "signature": "sha256:459a45d80d8a536068708c2a46aa3cbae9ff6b2c4f502574c4401cd713e0580f"
 },
 "nbformat": 3,
 "nbformat_minor": 0,
 "worksheets": [
  {
   "cells": [
    {
     "cell_type": "markdown",
     "metadata": {},
     "source": [
      "Now this is just text.\n",
      "\n",
      "* First\n",
      "* Second\n",
      "\n",
      "\n",
      "1. one\n",
      "1. two\n",
      "1. three\n",
      "\n",
      "| COl 1 | COl2 |\n",
      "| ----- | ---- |\n",
      "| 1.23  | 343.0|\n",
      "\n",
      "$$f(x) = \\int_0^x g(x,\\xi)d\\xi$$"
     ]
    },
    {
     "cell_type": "code",
     "collapsed": false,
     "input": [
      "x = 12\n",
      "y = 34\n",
      "print x + y"
     ],
     "language": "python",
     "metadata": {},
     "outputs": [
      {
       "output_type": "stream",
       "stream": "stdout",
       "text": [
        "46\n"
       ]
      }
     ],
     "prompt_number": 1
    },
    {
     "cell_type": "code",
     "collapsed": false,
     "input": [
      "%matplotlib inline\n",
      "import matplotlib.pyplot as plt\n",
      "import numpy as np\n",
      "\n",
      "x = np.linspace(0,10,100)\n",
      "plt.plot(x,np.sin(x))"
     ],
     "language": "python",
     "metadata": {},
     "outputs": [
      {
       "metadata": {},
       "output_type": "pyout",
       "prompt_number": 4,
       "text": [
        "[<matplotlib.lines.Line2D at 0x108719c90>]"
       ]
      },
      {
       "metadata": {},
       "output_type": "display_data",
       "png": "[encoded data removed]",
       "text": [
        "<matplotlib.figure.Figure at 0x10855b090>"
       ]
      }
     ],
     "prompt_number": 4
    },
    {
     "cell_type": "code",
     "collapsed": false,
     "input": [],
     "language": "python",
     "metadata": {},
     "outputs": []
    }
   ],
   "metadata": {}
  }
 ]
}