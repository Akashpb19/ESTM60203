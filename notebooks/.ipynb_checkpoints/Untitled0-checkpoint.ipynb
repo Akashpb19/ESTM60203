{
 "metadata": {
  "name": ""
 },
 "nbformat": 3,
 "nbformat_minor": 0,
 "worksheets": [
  {
   "cells": [
    {
     "cell_type": "markdown",
     "metadata": {},
     "source": [
      "<table>\n",
      "<thead>\n",
      "<tr><td></td><td>Unit Cost</td><td>Amount Available</td><td>Product X</td><td>Product Y</td></tr>\n",
      "</thead>\n",
      "\n",
      "<tbody>\n",
      "<tr><td>Raw Materials</td><td></td><td></td><td></td><td></td>\n",
      "<tr><td>Labor A</td><td></td><td></td><td></td><td></td>\n",
      "<tr><td>Labor B</td><td></td><td></td><td></td><td></td>\n",
      "</tbody>\n",
      "</table>"
     ]
    },
    {
     "cell_type": "code",
     "collapsed": false,
     "input": [
      "%%script glpsol -m /dev/stdin --ranges sensitivity.txt\n",
      "\n",
      "param laborA := 35;\n",
      "param laborB := 45;\n",
      "param raw := 10;\n",
      "param price := 270;\n",
      "\n",
      "var x >= 0;\n",
      "\n",
      "s.t. demand: x <= 40; \n",
      "    \n",
      "maximize profit: (price - raw - 1*laborA - 2*laborB)*x;\n",
      "    \n",
      "solve;\n",
      "display demand.dual;\n",
      "\n",
      "end;\n"
     ],
     "language": "python",
     "metadata": {},
     "outputs": [
      {
       "output_type": "stream",
       "stream": "stdout",
       "text": [
        "GLPSOL: GLPK LP/MIP Solver, v4.52\n",
        "Parameter(s) specified in the command line:\n",
        " -m /dev/stdin --ranges sensitivity.txt\n",
        "Reading model section from /dev/stdin...\n",
        "/dev/stdin:16: warning: final NL missing before end of file\n",
        "16 lines were read\n",
        "Generating demand...\n",
        "Generating profit...\n",
        "Model has been successfully generated\n",
        "GLPK Simplex Optimizer, v4.52\n",
        "2 rows, 1 column, 2 non-zeros\n",
        "Preprocessing...\n",
        "~     0: obj =   5.400000000e+03  infeas =  0.000e+00\n",
        "OPTIMAL SOLUTION FOUND BY LP PREPROCESSOR\n",
        "Time used:   0.0 secs\n",
        "Memory used: 0.1 Mb (94131 bytes)\n",
        "Display statement at line 14\n",
        "demand.dual = 135\n",
        "Model has been successfully processed\n",
        "Write sensitivity analysis report to `sensitivity.txt'...\n"
       ]
      }
     ],
     "prompt_number": 18
    },
    {
     "cell_type": "code",
     "collapsed": false,
     "input": [
      "f = open('sensitivity.txt')\n",
      "print(f.read())\n",
      "f.close()"
     ],
     "language": "python",
     "metadata": {},
     "outputs": [
      {
       "output_type": "stream",
       "stream": "stdout",
       "text": [
        "GLPK 4.52 - SENSITIVITY ANALYSIS REPORT                                                                         Page   1\n",
        "\n",
        "Problem:    stdin\n",
        "Objective:  profit = 5400 (MAXimum)\n",
        "\n",
        "   No. Row name     St      Activity         Slack   Lower bound       Activity      Obj coef  Obj value at Limiting\n",
        "                                          Marginal   Upper bound          range         range   break point variable\n",
        "------ ------------ -- ------------- ------------- -------------  ------------- ------------- ------------- ------------\n",
        "     1 demand       NU      40.00000        .               -Inf         .         -135.00000        .      x\n",
        "                                         135.00000      40.00000           +Inf          +Inf          +Inf\n",
        "\n",
        "     2 profit       BS    5400.00000   -5400.00000          -Inf         .           -1.00000        .      demand\n",
        "                                            .               +Inf     5400.00000          +Inf          +Inf\n",
        "\n",
        "GLPK 4.52 - SENSITIVITY ANALYSIS REPORT                                                                         Page   2\n",
        "\n",
        "Problem:    stdin\n",
        "Objective:  profit = 5400 (MAXimum)\n",
        "\n",
        "   No. Column name  St      Activity      Obj coef   Lower bound       Activity      Obj coef  Obj value at Limiting\n",
        "                                          Marginal   Upper bound          range         range   break point variable\n",
        "------ ------------ -- ------------- ------------- -------------  ------------- ------------- ------------- ------------\n",
        "     1 x            BS      40.00000     135.00000        .                -Inf        .             .      demand\n",
        "                                            .               +Inf       40.00000          +Inf          +Inf\n",
        "\n",
        "End of report\n",
        "\n"
       ]
      }
     ],
     "prompt_number": 19
    },
    {
     "cell_type": "code",
     "collapsed": false,
     "input": [
      "%%script glpsol -m /dev/stdin --ranges sensitivity.txt\n",
      "\n",
      "param laborA := 35;\n",
      "param laborB := 45;\n",
      "param raw := 9;\n",
      "param price := 210;\n",
      "\n",
      "var x >= 0;\n",
      "\n",
      "s.t. demand: x <= 40; \n",
      "    \n",
      "maximize profit: (price - raw - 1*laborA - 2*laborB)*x;\n",
      "    \n",
      "solve;\n",
      "display demand.dual;\n",
      "\n",
      "end;"
     ],
     "language": "python",
     "metadata": {},
     "outputs": []
    }
   ],
   "metadata": {}
  }
 ]
}