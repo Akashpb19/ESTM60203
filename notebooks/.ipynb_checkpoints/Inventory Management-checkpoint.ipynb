{
 "metadata": {
  "name": "",
  "signature": "sha256:31bd411ffad4064ee50547b2bc4037d52e5580f35d482cb44a683b080dd1d68f"
 },
 "nbformat": 3,
 "nbformat_minor": 0,
 "worksheets": [
  {
   "cells": [
    {
     "cell_type": "heading",
     "level": 1,
     "metadata": {
      "slideshow": {
       "slide_type": "slide"
      }
     },
     "source": [
      "Inventory Management"
     ]
    },
    {
     "cell_type": "markdown",
     "metadata": {},
     "source": [
      "This [IPython notebook](http://ipython.org/notebook.html) illustrates the formulation of an elementary model for multi-product plant using GLPK/MathProg.\n",
      "\n",
      "J.C. Kantor (Kantor.1@nd.edu)\n",
      "\n",
      "The latest version of this IPython notebook is available at [http://github.com/jckantor/CBE20255](http://github.com/jckantor/CBE20255)  for noncommercial use under terms of the [Creative Commons Attribution Noncommericial ShareAlike License](http://creativecommons.org/licenses/by-nc-sa/4.0/)."
     ]
    },
    {
     "cell_type": "code",
     "collapsed": false,
     "input": [
      "%matplotlib inline\n",
      "from pylab import *"
     ],
     "language": "python",
     "metadata": {},
     "outputs": [],
     "prompt_number": 1
    },
    {
     "cell_type": "heading",
     "level": 2,
     "metadata": {
      "slideshow": {
       "slide_type": "slide"
      }
     },
     "source": [
      "Economic Order Quantity (EOQ)"
     ]
    },
    {
     "cell_type": "code",
     "collapsed": false,
     "input": [
      "K = 200.00      # Cost to place an order\n",
      "D = 1200.       # Annual Demand\n",
      "h = 25.00       # Cost of holding an item for one year\n",
      "\n",
      "AC = lambda Q: K*D/Q + Q*h/2.0\n",
      "HC = lambda Q: Q*h/2.0\n",
      "OC = lambda Q: K*D/Q\n",
      "AC = lambda Q: OC(Q) + HC(Q)\n",
      "\n",
      "EOQ = sqrt(2.0*D*K/h)\n",
      "\n",
      "Q = linspace(50,400)\n",
      "plot(Q,AC(Q),lw=2)\n",
      "xlim(0,400)\n",
      "ylim(0,ylim()[1])\n",
      "\n",
      "hold(True)\n",
      "plot(Q,HC(Q),'r',lw = 2)\n",
      "plot(Q,OC(Q),'g',lw = 2)\n",
      "plot([EOQ,EOQ,0],[0,AC(EOQ),AC(EOQ)],'k--')\n",
      "hold(False)\n",
      "\n",
      "xlabel('Q: Order Quantity')\n",
      "ylabel('Annual Cost')\n",
      "title('Economic Order Quantity')\n",
      "\n",
      "savefig('img/InventoryManagementEOQ.png')"
     ],
     "language": "python",
     "metadata": {
      "slideshow": {
       "slide_type": "fragment"
      }
     },
     "outputs": [
      {
       "metadata": {},
       "output_type": "display_data",
       "png": "[encoded data removed]",
       "text": [
        "<matplotlib.figure.Figure at 0x109196410>"
       ]
      }
     ],
     "prompt_number": 29
    },
    {
     "cell_type": "heading",
     "level": 1,
     "metadata": {},
     "source": [
      "401/281"
     ]
    },
    {
     "cell_type": "code",
     "collapsed": false,
     "input": [
      "401/281.0"
     ],
     "language": "python",
     "metadata": {},
     "outputs": [
      {
       "metadata": {},
       "output_type": "pyout",
       "prompt_number": 30,
       "text": [
        "1.4270462633451957"
       ]
      }
     ],
     "prompt_number": 30
    },
    {
     "cell_type": "code",
     "collapsed": false,
     "input": [],
     "language": "python",
     "metadata": {},
     "outputs": []
    }
   ],
   "metadata": {}
  }
 ]
}