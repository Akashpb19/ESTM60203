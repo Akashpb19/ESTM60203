{
 "metadata": {
  "name": ""
 },
 "nbformat": 3,
 "nbformat_minor": 0,
 "worksheets": [
  {
   "cells": [
    {
     "cell_type": "heading",
     "level": 1,
     "metadata": {
      "slideshow": {
       "slide_type": "slide"
      }
     },
     "source": [
      "Production Models with Constraints"
     ]
    },
    {
     "cell_type": "heading",
     "level": 2,
     "metadata": {
      "slideshow": {
       "slide_type": "slide"
      }
     },
     "source": [
      "Production Plan: Product X"
     ]
    },
    {
     "cell_type": "markdown",
     "metadata": {},
     "source": [
      "<img src=\"files/img/LP_ProductX.png\" style=\"width:800px\"/>"
     ]
    },
    {
     "cell_type": "heading",
     "level": 3,
     "metadata": {
      "slideshow": {
       "slide_type": "fragment"
      }
     },
     "source": [
      "MathProg Model"
     ]
    },
    {
     "cell_type": "code",
     "collapsed": false,
     "input": [
      "%%script glpsol -m /dev/stdin -o /dev/stdout --out output\n",
      "\n",
      "var x >= 0, <= 40;\n",
      "\n",
      "maximize profit: 270*x - 2*40*x - 50*x - 100*x;\n",
      "\n",
      "s.t. LaborA: x <= 80;\n",
      "s.t. LaborB: 2*x <= 100;\n",
      "\n",
      "end;\n"
     ],
     "language": "python",
     "metadata": {
      "slideshow": {
       "slide_type": "fragment"
      }
     },
     "outputs": [],
     "prompt_number": 2
    },
    {
     "cell_type": "heading",
     "level": 3,
     "metadata": {
      "slideshow": {
       "slide_type": "slide"
      }
     },
     "source": [
      "Model Output"
     ]
    },
    {
     "cell_type": "code",
     "collapsed": false,
     "input": [
      "print output"
     ],
     "language": "python",
     "metadata": {},
     "outputs": [
      {
       "output_type": "stream",
       "stream": "stdout",
       "text": [
        "GLPSOL: GLPK LP/MIP Solver, v4.52\n",
        "Parameter(s) specified in the command line:\n",
        " -m /dev/stdin -o /dev/stdout\n",
        "Reading model section from /dev/stdin...\n",
        "/dev/stdin:9: warning: final NL missing before end of file\n",
        "9 lines were read\n",
        "Generating profit...\n",
        "Generating LaborA...\n",
        "Generating LaborB...\n",
        "Model has been successfully generated\n",
        "GLPK Simplex Optimizer, v4.52\n",
        "3 rows, 1 column, 3 non-zeros\n",
        "Preprocessing...\n",
        "~     0: obj =   1.600000000e+03  infeas =  0.000e+00\n",
        "OPTIMAL SOLUTION FOUND BY LP PREPROCESSOR\n",
        "Time used:   0.0 secs\n",
        "Memory used: 0.1 Mb (94139 bytes)\n",
        "Writing basic solution to `/dev/stdout'...\n",
        "Problem:    stdin\n",
        "Rows:       3\n",
        "Columns:    1\n",
        "Non-zeros:  3\n",
        "Status:     OPTIMAL\n",
        "Objective:  profit = 1600 (MAXimum)\n",
        "\n",
        "   No.   Row name   St   Activity     Lower bound   Upper bound    Marginal\n",
        "------ ------------ -- ------------- ------------- ------------- -------------\n",
        "     1 profit       B           1600                             \n",
        "     2 LaborA       B             40                          80 \n",
        "     3 LaborB       B             80                         100 \n",
        "\n",
        "   No. Column name  St   Activity     Lower bound   Upper bound    Marginal\n",
        "------ ------------ -- ------------- ------------- ------------- -------------\n",
        "     1 x            NU            40             0            40            40 \n",
        "\n",
        "Karush-Kuhn-Tucker optimality conditions:\n",
        "\n",
        "KKT.PE: max.abs.err = 0.00e+00 on row 0\n",
        "        max.rel.err = 0.00e+00 on row 0\n",
        "        High quality\n",
        "\n",
        "KKT.PB: max.abs.err = 0.00e+00 on row 0\n",
        "        max.rel.err = 0.00e+00 on row 0\n",
        "        High quality\n",
        "\n",
        "KKT.DE: max.abs.err = 0.00e+00 on column 0\n",
        "        max.rel.err = 0.00e+00 on column 0\n",
        "        High quality\n",
        "\n",
        "KKT.DB: max.abs.err = 0.00e+00 on row 0\n",
        "        max.rel.err = 0.00e+00 on row 0\n",
        "        High quality\n",
        "\n",
        "End of output\n",
        "\n"
       ]
      }
     ],
     "prompt_number": 3
    },
    {
     "cell_type": "heading",
     "level": 3,
     "metadata": {
      "slideshow": {
       "slide_type": "slide"
      }
     },
     "source": [
      "What is the active constraint?"
     ]
    },
    {
     "cell_type": "heading",
     "level": 3,
     "metadata": {
      "slideshow": {
       "slide_type": "fragment"
      }
     },
     "source": [
      "What is the sensitivity of profit to a change in the constraint?"
     ]
    },
    {
     "cell_type": "heading",
     "level": 3,
     "metadata": {
      "slideshow": {
       "slide_type": "fragment"
      }
     },
     "source": [
      "Can we do better?"
     ]
    },
    {
     "cell_type": "heading",
     "level": 2,
     "metadata": {
      "slideshow": {
       "slide_type": "slide"
      }
     },
     "source": [
      "Production Plan: Product Y"
     ]
    },
    {
     "cell_type": "markdown",
     "metadata": {},
     "source": [
      "<img src=\"files/img/LP_ProductY.png\" style=\"width:800px\"/>"
     ]
    },
    {
     "cell_type": "code",
     "collapsed": false,
     "input": [
      "%%script glpsol -m /dev/stdin -o /dev/stdout --out output\n",
      "\n",
      "var y >= 0;\n",
      "\n",
      "maximize profit: 210*y - 40*y - 50*y - 90*y;\n",
      "\n",
      "s.t. LaborA: y <= 80;\n",
      "s.t. LaborB: y <= 100;\n",
      "\n",
      "end;"
     ],
     "language": "python",
     "metadata": {
      "slideshow": {
       "slide_type": "fragment"
      }
     },
     "outputs": [],
     "prompt_number": 4
    },
    {
     "cell_type": "heading",
     "level": 3,
     "metadata": {
      "slideshow": {
       "slide_type": "slide"
      }
     },
     "source": [
      "Model Output"
     ]
    },
    {
     "cell_type": "code",
     "collapsed": false,
     "input": [
      "print output"
     ],
     "language": "python",
     "metadata": {},
     "outputs": [
      {
       "output_type": "stream",
       "stream": "stdout",
       "text": [
        "GLPSOL: GLPK LP/MIP Solver, v4.52\n",
        "Parameter(s) specified in the command line:\n",
        " -m /dev/stdin -o /dev/stdout\n",
        "Reading model section from /dev/stdin...\n",
        "/dev/stdin:9: warning: final NL missing before end of file\n",
        "9 lines were read\n",
        "Generating profit...\n",
        "Generating LaborA...\n",
        "Generating LaborB...\n",
        "Model has been successfully generated\n",
        "GLPK Simplex Optimizer, v4.52\n",
        "3 rows, 1 column, 3 non-zeros\n",
        "Preprocessing...\n",
        "~     0: obj =   2.400000000e+03  infeas =  0.000e+00\n",
        "OPTIMAL SOLUTION FOUND BY LP PREPROCESSOR\n",
        "Time used:   0.0 secs\n",
        "Memory used: 0.1 Mb (94139 bytes)\n",
        "Writing basic solution to `/dev/stdout'...\n",
        "Problem:    stdin\n",
        "Rows:       3\n",
        "Columns:    1\n",
        "Non-zeros:  3\n",
        "Status:     OPTIMAL\n",
        "Objective:  profit = 2400 (MAXimum)\n",
        "\n",
        "   No.   Row name   St   Activity     Lower bound   Upper bound    Marginal\n",
        "------ ------------ -- ------------- ------------- ------------- -------------\n",
        "     1 profit       B           2400                             \n",
        "     2 LaborA       NU            80                          80            30 \n",
        "     3 LaborB       B             80                         100 \n",
        "\n",
        "   No. Column name  St   Activity     Lower bound   Upper bound    Marginal\n",
        "------ ------------ -- ------------- ------------- ------------- -------------\n",
        "     1 y            B             80             0               \n",
        "\n",
        "Karush-Kuhn-Tucker optimality conditions:\n",
        "\n",
        "KKT.PE: max.abs.err = 0.00e+00 on row 0\n",
        "        max.rel.err = 0.00e+00 on row 0\n",
        "        High quality\n",
        "\n",
        "KKT.PB: max.abs.err = 0.00e+00 on row 0\n",
        "        max.rel.err = 0.00e+00 on row 0\n",
        "        High quality\n",
        "\n",
        "KKT.DE: max.abs.err = 0.00e+00 on column 0\n",
        "        max.rel.err = 0.00e+00 on column 0\n",
        "        High quality\n",
        "\n",
        "KKT.DB: max.abs.err = 0.00e+00 on row 0\n",
        "        max.rel.err = 0.00e+00 on row 0\n",
        "        High quality\n",
        "\n",
        "End of output\n",
        "\n"
       ]
      }
     ],
     "prompt_number": 5
    },
    {
     "cell_type": "heading",
     "level": 3,
     "metadata": {
      "slideshow": {
       "slide_type": "slide"
      }
     },
     "source": [
      "What is the active constraint?"
     ]
    },
    {
     "cell_type": "heading",
     "level": 3,
     "metadata": {
      "slideshow": {
       "slide_type": "fragment"
      }
     },
     "source": [
      "What you be willing to spend for each additional hour of labor?"
     ]
    },
    {
     "cell_type": "heading",
     "level": 3,
     "metadata": {
      "slideshow": {
       "slide_type": "fragment"
      }
     },
     "source": [
      "Can we do better?"
     ]
    },
    {
     "cell_type": "heading",
     "level": 2,
     "metadata": {
      "slideshow": {
       "slide_type": "slide"
      }
     },
     "source": [
      "Production Plan: Mixed Product Strategy"
     ]
    },
    {
     "cell_type": "markdown",
     "metadata": {},
     "source": [
      "<img src=\"files/img/LP_ProductXY.png\" style=\"width:800px\"/>"
     ]
    },
    {
     "cell_type": "code",
     "collapsed": false,
     "input": [
      "%%script glpsol -m /dev/stdin -o /dev/stdout --out output\n",
      "\n",
      "var x >= 0, <= 40;\n",
      "var y >= 0;\n",
      "\n",
      "maximize profit: (270*x - 2*x*40 - 50*x - 100*x) + (210*y - 40*y - 50*y - 90*y);\n",
      "\n",
      "s.t. LaborA: x + y <= 80;\n",
      "s.t. LaborB: 2*x + y <= 100;\n",
      "\n",
      "end;"
     ],
     "language": "python",
     "metadata": {
      "slideshow": {
       "slide_type": "fragment"
      }
     },
     "outputs": [],
     "prompt_number": 8
    },
    {
     "cell_type": "heading",
     "level": 3,
     "metadata": {
      "slideshow": {
       "slide_type": "slide"
      }
     },
     "source": [
      "Model Output"
     ]
    },
    {
     "cell_type": "code",
     "collapsed": false,
     "input": [
      "print output"
     ],
     "language": "python",
     "metadata": {},
     "outputs": [
      {
       "output_type": "stream",
       "stream": "stdout",
       "text": [
        "GLPSOL: GLPK LP/MIP Solver, v4.52\n",
        "Parameter(s) specified in the command line:\n",
        " -m /dev/stdin -o /dev/stdout\n",
        "Reading model section from /dev/stdin...\n",
        "/dev/stdin:10: warning: final NL missing before end of file\n",
        "10 lines were read\n",
        "Generating profit...\n",
        "Generating LaborA...\n",
        "Generating LaborB...\n",
        "Model has been successfully generated\n",
        "GLPK Simplex Optimizer, v4.52\n",
        "3 rows, 2 columns, 6 non-zeros\n",
        "Preprocessing...\n",
        "2 rows, 2 columns, 4 non-zeros\n",
        "Scaling...\n",
        " A: min|aij| =  1.000e+00  max|aij| =  2.000e+00  ratio =  2.000e+00\n",
        "Problem data seem to be well scaled\n",
        "Constructing initial basis...\n",
        "Size of triangular part is 2\n",
        "*     0: obj =   0.000000000e+00  infeas =  0.000e+00 (0)\n",
        "*     3: obj =   2.600000000e+03  infeas =  0.000e+00 (0)\n",
        "OPTIMAL LP SOLUTION FOUND\n",
        "Time used:   0.0 secs\n",
        "Memory used: 0.1 Mb (102203 bytes)\n",
        "Writing basic solution to `/dev/stdout'...\n",
        "Problem:    stdin\n",
        "Rows:       3\n",
        "Columns:    2\n",
        "Non-zeros:  6\n",
        "Status:     OPTIMAL\n",
        "Objective:  profit = 2600 (MAXimum)\n",
        "\n",
        "   No.   Row name   St   Activity     Lower bound   Upper bound    Marginal\n",
        "------ ------------ -- ------------- ------------- ------------- -------------\n",
        "     1 profit       B           2600                             \n",
        "     2 LaborA       NU            80                          80            20 \n",
        "     3 LaborB       NU           100                         100            10 \n",
        "\n",
        "   No. Column name  St   Activity     Lower bound   Upper bound    Marginal\n",
        "------ ------------ -- ------------- ------------- ------------- -------------\n",
        "     1 x            B             20             0            40 \n",
        "     2 y            B             60             0               \n",
        "\n",
        "Karush-Kuhn-Tucker optimality conditions:\n",
        "\n",
        "KKT.PE: max.abs.err = 0.00e+00 on row 0\n",
        "        max.rel.err = 0.00e+00 on row 0\n",
        "        High quality\n",
        "\n",
        "KKT.PB: max.abs.err = 0.00e+00 on row 0\n",
        "        max.rel.err = 0.00e+00 on row 0\n",
        "        High quality\n",
        "\n",
        "KKT.DE: max.abs.err = 0.00e+00 on column 0\n",
        "        max.rel.err = 0.00e+00 on column 0\n",
        "        High quality\n",
        "\n",
        "KKT.DB: max.abs.err = 0.00e+00 on row 0\n",
        "        max.rel.err = 0.00e+00 on row 0\n",
        "        High quality\n",
        "\n",
        "End of output\n",
        "\n"
       ]
      }
     ],
     "prompt_number": 9
    },
    {
     "cell_type": "heading",
     "level": 3,
     "metadata": {
      "slideshow": {
       "slide_type": "slide"
      }
     },
     "source": [
      "What is the active constraint?"
     ]
    },
    {
     "cell_type": "code",
     "collapsed": false,
     "input": [
      "x = array([0,80])\n",
      "y = 80 - x\n",
      "plot(x,y,'r')\n",
      "\n",
      "x = array([0,50])\n",
      "y = 100 - 2*x\n",
      "plot(x,y,'b')\n",
      "\n",
      "plot([40,40],[0,100],'g')\n",
      "\n",
      "axis([0,100,0,100])\n",
      "\n",
      "plot(20,60,'.',ms=20)\n",
      "text(24,65,'Optimum Operating Solution')"
     ],
     "language": "python",
     "metadata": {
      "slideshow": {
       "slide_type": "fragment"
      }
     },
     "outputs": [
      {
       "metadata": {},
       "output_type": "pyout",
       "prompt_number": 62,
       "text": [
        "<matplotlib.text.Text at 0x108397c90>"
       ]
      },
      {
       "metadata": {},
       "output_type": "display_data",
       "png": "[encoded data removed]",
       "text": [
        "<matplotlib.figure.Figure at 0x108458710>"
       ]
      }
     ],
     "prompt_number": 62
    },
    {
     "cell_type": "heading",
     "level": 3,
     "metadata": {
      "slideshow": {
       "slide_type": "slide"
      }
     },
     "source": [
      "What is the incremental value of labor?"
     ]
    },
    {
     "cell_type": "heading",
     "level": 2,
     "metadata": {
      "slideshow": {
       "slide_type": "slide"
      }
     },
     "source": [
      "Theory of Constraints"
     ]
    },
    {
     "cell_type": "markdown",
     "metadata": {},
     "source": [
      "Where are the constraints in your process?\n",
      "\n",
      "* For $n$ decisions you should expect to find $n$ 'active' constraints.\n",
      "* Each inactive constraint has an associated 'slack.'  The associated resources have no incremental value.\n",
      "* Each active constraint has an associated 'shadow price'.  This is additional value of additional resources.\n"
     ]
    },
    {
     "cell_type": "heading",
     "level": 2,
     "metadata": {
      "slideshow": {
       "slide_type": "slide"
      }
     },
     "source": [
      "Exercises"
     ]
    },
    {
     "cell_type": "markdown",
     "metadata": {},
     "source": [
      "1. Copy and paste these models into the [MathProg](http://www3.nd.edu/~jeff/mathprog/) solver. Verify the calculations and conclusions shown above.\n",
      "\n",
      "2. Using MathProg, create a model for Problem B.14 (Kalyan Signhal Corp.) of Heizer & Render. Note that part (d) of the problem may require you to rerun the model for different problem data."
     ]
    }
   ],
   "metadata": {}
  }
 ]
}