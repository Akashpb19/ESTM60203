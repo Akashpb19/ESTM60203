{
 "metadata": {
  "name": ""
 },
 "nbformat": 3,
 "nbformat_minor": 0,
 "worksheets": [
  {
   "cells": [
    {
     "cell_type": "markdown",
     "metadata": {},
     "source": [
      "<img src=\"files/img/LP_ProductX.png\" style=\"width:800px\"/>"
     ]
    },
    {
     "cell_type": "code",
     "collapsed": false,
     "input": [
      "%%script glpsol -m /dev/stdin -y output.txt\n",
      "\n",
      "var x >= 0;\n",
      "\n",
      "s.t. demand: x <= 40;\n",
      "s.t. LaborA: x <= 80;\n",
      "s.t. LaborB: 2*x <= 100;\n",
      "\n",
      "maximize profit: 270*x - 2*x*40 - 50*x - 100*x;\n",
      "    \n",
      "solve;\n",
      "\n",
      "printf \"x = %7.2f Units\\n\", x;\n",
      "printf \"Demand =  %7.2f Units\\n\", demand;\n",
      "printf \"LaborA =  %7.2f Hours\\n\", LaborA;\n",
      "printf \"LaborB =  %7.2f Hours\\n\", LaborB;\n",
      "printf \"profit = $%6.2f\\n\", profit;\n",
      "\n",
      "end;"
     ],
     "language": "python",
     "metadata": {},
     "outputs": [
      {
       "output_type": "stream",
       "stream": "stdout",
       "text": [
        "GLPSOL: GLPK LP/MIP Solver, v4.52\n",
        "Parameter(s) specified in the command line:\n",
        " -m /dev/stdin -y output.txt\n",
        "Reading model section from /dev/stdin...\n",
        "/dev/stdin:18: warning: final NL missing before end of file\n",
        "18 lines were read\n",
        "Generating demand...\n",
        "Generating LaborA...\n",
        "Generating LaborB...\n",
        "Generating profit...\n",
        "Model has been successfully generated\n",
        "GLPK Simplex Optimizer, v4.52\n",
        "4 rows, 1 column, 4 non-zeros\n",
        "Preprocessing...\n",
        "~     0: obj =   1.600000000e+03  infeas =  0.000e+00\n",
        "OPTIMAL SOLUTION FOUND BY LP PREPROCESSOR\n",
        "Time used:   0.0 secs\n",
        "Memory used: 0.1 Mb (94197 bytes)\n",
        "Model has been successfully processed\n"
       ]
      }
     ],
     "prompt_number": 74
    },
    {
     "cell_type": "code",
     "collapsed": false,
     "input": [
      "f = open('output.txt')\n",
      "print(f.read())\n",
      "f.close()"
     ],
     "language": "python",
     "metadata": {},
     "outputs": [
      {
       "output_type": "stream",
       "stream": "stdout",
       "text": [
        "x =   40.00\n",
        "Demand =    40.00 Units\n",
        "LaborA =    40.00 Hours\n",
        "LaborB =    80.00 Hours\n",
        "profit = $1600.00\n",
        "\n"
       ]
      }
     ],
     "prompt_number": 73
    },
    {
     "cell_type": "code",
     "collapsed": false,
     "input": [
      "%%script glpsol -m /dev/stdin --ranges sensitivity.txt\n",
      "\n",
      "var x >= 0;\n",
      "var y >= 0;\n",
      "\n",
      "s.t. demand: x <= 40; \n",
      "s.t. LaborA: 1*x + y <= 80;\n",
      "s.t. LaborB: 2*x + y <= 100;\n",
      "    \n",
      "maximize profit: (270 - 50 - 2*40 - 100)*x + (210 - 50 - 40 - 90)*y;\n",
      "    \n",
      "solve;\n",
      "\n",
      "display x,y;\n",
      "display demand, LaborA, LaborB;\n",
      "\n",
      "end;\n"
     ],
     "language": "python",
     "metadata": {},
     "outputs": [
      {
       "output_type": "stream",
       "stream": "stdout",
       "text": [
        "GLPSOL: GLPK LP/MIP Solver, v4.52\n",
        "Parameter(s) specified in the command line:\n",
        " -m /dev/stdin --ranges sensitivity.txt\n",
        "Reading model section from /dev/stdin...\n",
        "/dev/stdin:16: warning: final NL missing before end of file\n",
        "16 lines were read\n",
        "Generating demand...\n",
        "Generating LaborA...\n",
        "Generating LaborB...\n",
        "Generating profit...\n",
        "Model has been successfully generated\n",
        "GLPK Simplex Optimizer, v4.52\n",
        "4 rows, 2 columns, 7 non-zeros\n",
        "Preprocessing...\n",
        "2 rows, 2 columns, 4 non-zeros\n",
        "Scaling...\n",
        " A: min|aij| =  1.000e+00  max|aij| =  2.000e+00  ratio =  2.000e+00\n",
        "Problem data seem to be well scaled\n",
        "Constructing initial basis...\n",
        "Size of triangular part is 2\n",
        "*     0: obj =   0.000000000e+00  infeas =  0.000e+00 (0)\n",
        "*     3: obj =   2.600000000e+03  infeas =  0.000e+00 (0)\n",
        "OPTIMAL LP SOLUTION FOUND\n",
        "Time used:   0.0 secs\n",
        "Memory used: 0.1 Mb (102211 bytes)\n",
        "Display statement at line 13\n",
        "x.val = 20\n",
        "y.val = 60\n",
        "Display statement at line 14\n",
        "demand.val = 20\n",
        "LaborA.val = 80\n",
        "LaborB.val = 100\n",
        "Model has been successfully processed\n",
        "Write sensitivity analysis report to `sensitivity.txt'...\n"
       ]
      }
     ],
     "prompt_number": 53
    },
    {
     "cell_type": "code",
     "collapsed": false,
     "input": [
      "f = open('sensitivity.txt')\n",
      "print(f.read())\n",
      "f.close()"
     ],
     "language": "python",
     "metadata": {},
     "outputs": [
      {
       "output_type": "stream",
       "stream": "stdout",
       "text": [
        "GLPK 4.52 - SENSITIVITY ANALYSIS REPORT                                                                         Page   1\n",
        "\n",
        "Problem:    stdin\n",
        "Objective:  profit = 2600 (MAXimum)\n",
        "\n",
        "   No. Row name     St      Activity         Slack   Lower bound       Activity      Obj coef  Obj value at Limiting\n",
        "                                          Marginal   Upper bound          range         range   break point variable\n",
        "------ ------------ -- ------------- ------------- -------------  ------------- ------------- ------------- ------------\n",
        "     1 demand       BS      20.00000      20.00000          -Inf         .          -10.00000    2400.00000 LaborB\n",
        "                                            .           40.00000       50.00000      20.00000    3000.00000 LaborA\n",
        "\n",
        "     2 LaborA       NU      80.00000        .               -Inf       60.00000     -20.00000    2200.00000 demand\n",
        "                                          20.00000      80.00000      100.00000          +Inf    3000.00000 x\n",
        "\n",
        "     3 LaborB       NU     100.00000        .               -Inf       80.00000     -10.00000    2400.00000 x\n",
        "                                          10.00000     100.00000      120.00000          +Inf    2800.00000 demand\n",
        "\n",
        "     4 profit       BS    2600.00000   -2600.00000          -Inf     2200.00000      -1.00000        .      LaborA\n",
        "                                            .               +Inf     2600.00000          +Inf          +Inf\n",
        "\n",
        "GLPK 4.52 - SENSITIVITY ANALYSIS REPORT                                                                         Page   2\n",
        "\n",
        "Problem:    stdin\n",
        "Objective:  profit = 2600 (MAXimum)\n",
        "\n",
        "   No. Column name  St      Activity      Obj coef   Lower bound       Activity      Obj coef  Obj value at Limiting\n",
        "                                          Marginal   Upper bound          range         range   break point variable\n",
        "------ ------------ -- ------------- ------------- -------------  ------------- ------------- ------------- ------------\n",
        "     1 x            BS      20.00000      40.00000        .                -Inf      30.00000    2400.00000 LaborB\n",
        "                                            .               +Inf       40.00000      60.00000    3000.00000 LaborA\n",
        "\n",
        "     2 y            BS      60.00000      30.00000        .            20.00000      20.00000    2000.00000 LaborA\n",
        "                                            .               +Inf       80.00000      40.00000    3200.00000 LaborB\n",
        "\n",
        "End of report\n",
        "\n"
       ]
      }
     ],
     "prompt_number": 54
    },
    {
     "cell_type": "code",
     "collapsed": false,
     "input": [
      "%%script glpsol -m /dev/stdin --ranges sensitivity.txt\n",
      "\n",
      "param laborA := 35;\n",
      "param laborB := 45;\n",
      "param raw := 9;\n",
      "param price := 210;\n",
      "\n",
      "var x >= 0;\n",
      "\n",
      "s.t. demand: x <= 40; \n",
      "    \n",
      "maximize profit: (price - raw - 1*laborA - 2*laborB)*x;\n",
      "    \n",
      "solve;\n",
      "display demand.dual;\n",
      "\n",
      "end;"
     ],
     "language": "python",
     "metadata": {},
     "outputs": []
    },
    {
     "cell_type": "markdown",
     "metadata": {},
     "source": [
      "<table>\n",
      "<thead>\n",
      "<tr><td></td><td>Unit Cost</td><td>Amount Available</td><td>Product X</td><td>Product Y</td></tr>\n",
      "</thead>\n",
      "\n",
      "<tbody>\n",
      "<tr><td>Price</td><td></td><td></td><td></td><td></td>\n",
      "<tr><td>Demand</td><td></td><td></td><td></td><td></td>\n",
      "<tr><td>Raw Materials</td><td>1</td>1000<td></td><td>10</td><td>9</td>\n",
      "<tr><td>Labor A</td><td align=\"right\">\\$35/hr</td><td align=\"right\">80 hr</td><td>1</td><td>1</td>\n",
      "  <tr>\n",
      "    <td>Labor B</td>\n",
      "    <td align=\"right\">\\$50/hr</td>\n",
      "    <td align=\"right\">100 hr</td>\n",
      "    <td align=\"right\">2</td>\n",
      "    <td align=\"right\">1</td>\n",
      "</tbody>\n",
      "</table>"
     ]
    }
   ],
   "metadata": {}
  }
 ]
}